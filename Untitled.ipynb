{
 "cells": [
  {
   "cell_type": "code",
   "execution_count": 30,
   "id": "44a0663d",
   "metadata": {},
   "outputs": [],
   "source": [
    "import streamlit as st"
   ]
  },
  {
   "cell_type": "code",
   "execution_count": 31,
   "id": "38e3f8a2",
   "metadata": {},
   "outputs": [],
   "source": [
    "import pandas as pd"
   ]
  },
  {
   "cell_type": "code",
   "execution_count": 32,
   "id": "1148722d",
   "metadata": {},
   "outputs": [],
   "source": [
    "import matplotlib.pyplot as plt"
   ]
  },
  {
   "cell_type": "code",
   "execution_count": 33,
   "id": "3d7757f8",
   "metadata": {},
   "outputs": [],
   "source": [
    "#pip install --upgrade matplotlib"
   ]
  },
  {
   "cell_type": "code",
   "execution_count": 34,
   "id": "29f2417a",
   "metadata": {},
   "outputs": [],
   "source": [
    "import requests\n"
   ]
  },
  {
   "cell_type": "code",
   "execution_count": 5,
   "id": "d1ce850c",
   "metadata": {},
   "outputs": [],
   "source": [
    "import streamlit as st"
   ]
  },
  {
   "cell_type": "code",
   "execution_count": 6,
   "id": "b4f0298a",
   "metadata": {},
   "outputs": [],
   "source": [
    "#pip install streamlit_lottie"
   ]
  },
  {
   "cell_type": "code",
   "execution_count": 7,
   "id": "fb744d79",
   "metadata": {},
   "outputs": [],
   "source": [
    "from streamlit_lottie import st_lottie"
   ]
  },
  {
   "cell_type": "code",
   "execution_count": 19,
   "id": "13580c4f",
   "metadata": {},
   "outputs": [],
   "source": [
    "from PIL import Image"
   ]
  },
  {
   "cell_type": "code",
   "execution_count": 20,
   "id": "e2a580d3",
   "metadata": {},
   "outputs": [],
   "source": [
    "#pip install streamlit --upgrade"
   ]
  },
  {
   "cell_type": "code",
   "execution_count": null,
   "id": "ed0129d1",
   "metadata": {},
   "outputs": [],
   "source": []
  }
 ],
 "metadata": {
  "kernelspec": {
   "display_name": "Python 3 (ipykernel)",
   "language": "python",
   "name": "python3"
  },
  "language_info": {
   "codemirror_mode": {
    "name": "ipython",
    "version": 3
   },
   "file_extension": ".py",
   "mimetype": "text/x-python",
   "name": "python",
   "nbconvert_exporter": "python",
   "pygments_lexer": "ipython3",
   "version": "3.11.5"
  }
 },
 "nbformat": 4,
 "nbformat_minor": 5
}
