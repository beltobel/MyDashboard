{
 "cells": [
  {
   "cell_type": "code",
   "execution_count": 1,
   "id": "44a0663d",
   "metadata": {},
   "outputs": [],
   "source": [
    "import streamlit as st"
   ]
  },
  {
   "cell_type": "code",
   "execution_count": 2,
   "id": "38e3f8a2",
   "metadata": {},
   "outputs": [],
   "source": [
    "import pandas as pd"
   ]
  },
  {
   "cell_type": "code",
   "execution_count": 3,
   "id": "1148722d",
   "metadata": {},
   "outputs": [],
   "source": [
    "import matplotlib.pyplot as plt"
   ]
  },
  {
   "cell_type": "code",
   "execution_count": 4,
   "id": "3d7757f8",
   "metadata": {},
   "outputs": [],
   "source": [
    "#pip install --upgrade matplotlib"
   ]
  },
  {
   "cell_type": "code",
   "execution_count": 5,
   "id": "29f2417a",
   "metadata": {},
   "outputs": [],
   "source": [
    "import requests\n"
   ]
  },
  {
   "cell_type": "code",
   "execution_count": 6,
   "id": "d1ce850c",
   "metadata": {},
   "outputs": [],
   "source": [
    "import streamlit as st"
   ]
  },
  {
   "cell_type": "code",
   "execution_count": 7,
   "id": "b4f0298a",
   "metadata": {},
   "outputs": [],
   "source": [
    "#pip install streamlit_lottie"
   ]
  },
  {
   "cell_type": "code",
   "execution_count": 8,
   "id": "fb744d79",
   "metadata": {},
   "outputs": [],
   "source": [
    "from streamlit_lottie import st_lottie"
   ]
  },
  {
   "cell_type": "code",
   "execution_count": 9,
   "id": "13580c4f",
   "metadata": {},
   "outputs": [],
   "source": [
    "from PIL import Image"
   ]
  },
  {
   "cell_type": "code",
   "execution_count": 10,
   "id": "e2a580d3",
   "metadata": {},
   "outputs": [],
   "source": [
    "#pip install streamlit --upgrade"
   ]
  },
  {
   "cell_type": "code",
   "execution_count": 11,
   "id": "ed0129d1",
   "metadata": {},
   "outputs": [],
   "source": [
    "import PIL"
   ]
  },
  {
   "cell_type": "code",
   "execution_count": 12,
   "id": "d63eacc7",
   "metadata": {},
   "outputs": [
    {
     "name": "stdout",
     "output_type": "stream",
     "text": [
      "10.0.1\n"
     ]
    }
   ],
   "source": [
    "print(PIL.__version__)"
   ]
  },
  {
   "cell_type": "code",
   "execution_count": 1,
   "id": "3edcddf7",
   "metadata": {},
   "outputs": [
    {
     "name": "stdout",
     "output_type": "stream",
     "text": [
      "Note: you may need to restart the kernel to use updated packages.\n"
     ]
    },
    {
     "name": "stderr",
     "output_type": "stream",
     "text": [
      "ERROR: Could not find a version that satisfies the requirement PIL (from versions: none)\n",
      "ERROR: No matching distribution found for PIL\n"
     ]
    }
   ],
   "source": [
    "pip install --upgrade PIL==23"
   ]
  },
  {
   "cell_type": "code",
   "execution_count": 3,
   "id": "4240a004",
   "metadata": {},
   "outputs": [
    {
     "name": "stdout",
     "output_type": "stream",
     "text": [
      "Requirement already satisfied: pip==23.3.1 in c:\\users\\belet\\anaconda3\\lib\\site-packages (23.3.1)\n",
      "Note: you may need to restart the kernel to use updated packages.\n"
     ]
    }
   ],
   "source": [
    "pip install --upgrade pip==23.3.1"
   ]
  },
  {
   "cell_type": "code",
   "execution_count": null,
   "id": "684797cf",
   "metadata": {},
   "outputs": [],
   "source": []
  }
 ],
 "metadata": {
  "kernelspec": {
   "display_name": "Python 3 (ipykernel)",
   "language": "python",
   "name": "python3"
  },
  "language_info": {
   "codemirror_mode": {
    "name": "ipython",
    "version": 3
   },
   "file_extension": ".py",
   "mimetype": "text/x-python",
   "name": "python",
   "nbconvert_exporter": "python",
   "pygments_lexer": "ipython3",
   "version": "3.11.5"
  }
 },
 "nbformat": 4,
 "nbformat_minor": 5
}
